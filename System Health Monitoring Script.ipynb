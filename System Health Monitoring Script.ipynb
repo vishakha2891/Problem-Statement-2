{
 "cells": [
  {
   "cell_type": "code",
   "execution_count": null,
   "id": "002de0a4",
   "metadata": {},
   "outputs": [],
   "source": [
    "import psutil\n",
    "import logging\n",
    "import time\n",
    "\n",
    "# Set up logging\n",
    "logging.basicConfig(filename='system_health.log', level=logging.INFO, format='%(asctime)s - %(message)s')\n",
    "\n",
    "# Thresholds\n",
    "CPU_THRESHOLD = 80.0  # in percent\n",
    "MEMORY_THRESHOLD = 80.0  # in percent\n",
    "DISK_THRESHOLD = 80.0  # in percent\n",
    "\n",
    "def check_cpu_usage():\n",
    "    cpu_usage = psutil.cpu_percent(interval=1)\n",
    "    if cpu_usage > CPU_THRESHOLD:\n",
    "        logging.warning(f'High CPU usage detected: {cpu_usage}%')\n",
    "    return cpu_usage\n",
    "\n",
    "def check_memory_usage():\n",
    "    memory_info = psutil.virtual_memory()\n",
    "    memory_usage = memory_info.percent\n",
    "    if memory_usage > MEMORY_THRESHOLD:\n",
    "        logging.warning(f'High memory usage detected: {memory_usage}%')\n",
    "    return memory_usage\n",
    "\n",
    "def check_disk_usage():\n",
    "    disk_info = psutil.disk_usage('/')\n",
    "    disk_usage = disk_info.percent\n",
    "    if disk_usage > DISK_THRESHOLD:\n",
    "        logging.warning(f'High disk usage detected: {disk_usage}%')\n",
    "    return disk_usage\n",
    "\n",
    "def check_running_processes():\n",
    "    process_count = len(psutil.pids())\n",
    "    logging.info(f'Number of running processes: {process_count}')\n",
    "    return process_count\n",
    "\n",
    "def main():\n",
    "    while True:\n",
    "        cpu_usage = check_cpu_usage()\n",
    "        memory_usage = check_memory_usage()\n",
    "        disk_usage = check_disk_usage()\n",
    "        process_count = check_running_processes()\n",
    "\n",
    "        logging.info(f'CPU usage: {cpu_usage}%')\n",
    "        logging.info(f'Memory usage: {memory_usage}%')\n",
    "        logging.info(f'Disk usage: {disk_usage}%')\n",
    "        logging.info(f'Running processes: {process_count}')\n",
    "\n",
    "        # Sleep for a while before the next check\n",
    "        time.sleep(20)\n",
    "\n",
    "if __name__ == \"__main__\":\n",
    "    main()\n"
   ]
  },
  {
   "cell_type": "code",
   "execution_count": null,
   "id": "d4f1fb74",
   "metadata": {},
   "outputs": [],
   "source": []
  }
 ],
 "metadata": {
  "kernelspec": {
   "display_name": "Python 3 (ipykernel)",
   "language": "python",
   "name": "python3"
  },
  "language_info": {
   "codemirror_mode": {
    "name": "ipython",
    "version": 3
   },
   "file_extension": ".py",
   "mimetype": "text/x-python",
   "name": "python",
   "nbconvert_exporter": "python",
   "pygments_lexer": "ipython3",
   "version": "3.10.9"
  }
 },
 "nbformat": 4,
 "nbformat_minor": 5
}
