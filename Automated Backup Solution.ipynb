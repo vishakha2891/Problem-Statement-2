{
 "cells": [
  {
   "cell_type": "code",
   "execution_count": null,
   "id": "f59b9834",
   "metadata": {},
   "outputs": [],
   "source": [
    "import subprocess\n",
    "import logging\n",
    "import time\n",
    "\n",
    "# Set up logging\n",
    "logging.basicConfig(filename='backup.log', level=logging.INFO, format='%(asctime)s - %(message)s')\n",
    "\n",
    "# Configuration\n",
    "SOURCE_DIR = '/path/to/source/directory'\n",
    "REMOTE_USER = 'remote_user'\n",
    "REMOTE_HOST = 'remote_host'\n",
    "REMOTE_DIR = '/path/to/remote/directory'\n",
    "SSH_PORT = 22  # Default SSH port\n",
    "\n",
    "def perform_backup():\n",
    "    try:\n",
    "        # Command to perform the backup using rsync over SSH\n",
    "        rsync_command = [\n",
    "            'rsync', '-avz', '-e', f'ssh -p {SSH_PORT}',\n",
    "            SOURCE_DIR, f'{REMOTE_USER}@{REMOTE_HOST}:{REMOTE_DIR}'\n",
    "        ]\n",
    "\n",
    "        # Execute the rsync command\n",
    "        result = subprocess.run(rsync_command, capture_output=True, text=True)\n",
    "\n",
    "        # Check the result of the rsync command\n",
    "        if result.returncode == 0:\n",
    "            logging.info('Backup completed successfully.')\n",
    "            return True\n",
    "        else:\n",
    "            logging.error(f'Backup failed. Rsync output: {result.stderr}')\n",
    "            return False\n",
    "    except Exception as e:\n",
    "        logging.error(f'Backup failed with exception: {str(e)}')\n",
    "        return False\n",
    "\n",
    "def main():\n",
    "    while True:\n",
    "        backup_success = perform_backup()\n",
    "\n",
    "        if backup_success:\n",
    "            logging.info('Backup operation was successful.')\n",
    "        else:\n",
    "            logging.error('Backup operation failed.')\n",
    "\n",
    "        # Sleep for a day before the next backup\n",
    "        time.sleep(86400)  # 24 hours in seconds\n",
    "\n",
    "if __name__ == \"__main__\":\n",
    "    main()\n"
   ]
  },
  {
   "cell_type": "code",
   "execution_count": null,
   "id": "63539737",
   "metadata": {},
   "outputs": [],
   "source": []
  },
  {
   "cell_type": "code",
   "execution_count": null,
   "id": "076fb7f9",
   "metadata": {},
   "outputs": [],
   "source": []
  }
 ],
 "metadata": {
  "kernelspec": {
   "display_name": "Python 3 (ipykernel)",
   "language": "python",
   "name": "python3"
  },
  "language_info": {
   "codemirror_mode": {
    "name": "ipython",
    "version": 3
   },
   "file_extension": ".py",
   "mimetype": "text/x-python",
   "name": "python",
   "nbconvert_exporter": "python",
   "pygments_lexer": "ipython3",
   "version": "3.10.9"
  }
 },
 "nbformat": 4,
 "nbformat_minor": 5
}
